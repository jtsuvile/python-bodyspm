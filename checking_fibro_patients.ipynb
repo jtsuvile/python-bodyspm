{
 "cells": [
  {
   "cell_type": "code",
   "execution_count": 2,
   "metadata": {},
   "outputs": [],
   "source": [
    "import pandas as pd\n",
    "import os\n",
    "import glob"
   ]
  },
  {
   "cell_type": "code",
   "execution_count": 14,
   "metadata": {},
   "outputs": [],
   "source": [
    "subfiles_list = glob.glob('/Volumes/Shield1/backups_aalto_scratch/kipupotilaat/data/stockholm/processed/sub_*_info.json')\n",
    "subnums_with_file = [int(x.split('_')[3]) for x in subfiles_list]"
   ]
  },
  {
   "cell_type": "code",
   "execution_count": 15,
   "metadata": {},
   "outputs": [],
   "source": [
    "subnums_fibro = pd.read_csv('/Volumes/Shield1/kipupotilaat-data/stockholm/subs_fibro_19_01_2024.txt', header=None)\n",
    "fibro_list = list(set(subnums_fibro[0]) & set(subnums_with_file))\n"
   ]
  },
  {
   "cell_type": "code",
   "execution_count": 26,
   "metadata": {},
   "outputs": [],
   "source": [
    "with open('/Volumes/Shield1/kipupotilaat-data/stockholm/subs_fibro_19_01_2024.txt', 'w') as f:\n",
    "    f.write(\"\\n\".join(map(str, fibro_list)))"
   ]
  },
  {
   "cell_type": "code",
   "execution_count": 31,
   "metadata": {},
   "outputs": [
    {
     "data": {
      "text/plain": [
       "154"
      ]
     },
     "execution_count": 31,
     "metadata": {},
     "output_type": "execute_result"
    }
   ],
   "source": [
    "subnums_lbp = pd.read_csv('/Volumes/Shield1/kipupotilaat-data/stockholm/subs_lbp_from_eva_19_01_2024.txt', header=None)\n",
    "lbp_list = list(set(subnums_lbp[0]) & set(subnums_with_file))"
   ]
  },
  {
   "cell_type": "code",
   "execution_count": 32,
   "metadata": {},
   "outputs": [],
   "source": [
    "with open('/Volumes/Shield1/kipupotilaat-data/stockholm/subs_lbp_19_01_2024.txt', 'w') as f:\n",
    "    f.write(\"\\n\".join(map(str, lbp_list)))"
   ]
  },
  {
   "cell_type": "code",
   "execution_count": null,
   "metadata": {},
   "outputs": [],
   "source": []
  }
 ],
 "metadata": {
  "kernelspec": {
   "display_name": "kipu",
   "language": "python",
   "name": "python3"
  },
  "language_info": {
   "codemirror_mode": {
    "name": "ipython",
    "version": 3
   },
   "file_extension": ".py",
   "mimetype": "text/x-python",
   "name": "python",
   "nbconvert_exporter": "python",
   "pygments_lexer": "ipython3",
   "version": "3.7.7"
  },
  "orig_nbformat": 4
 },
 "nbformat": 4,
 "nbformat_minor": 2
}
